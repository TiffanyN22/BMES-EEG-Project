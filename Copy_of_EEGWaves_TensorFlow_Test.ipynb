{
  "nbformat": 4,
  "nbformat_minor": 0,
  "metadata": {
    "colab": {
      "provenance": [],
      "gpuType": "V100",
      "machine_shape": "hm",
      "mount_file_id": "1fAqbkGC_UguYyiEzXBAVkCLuL9Cu5KW6",
      "authorship_tag": "ABX9TyN6Iku3YTF8fz0qhssLf6aI",
      "include_colab_link": true
    },
    "kernelspec": {
      "name": "python3",
      "display_name": "Python 3"
    },
    "language_info": {
      "name": "python"
    },
    "gpuClass": "standard",
    "accelerator": "GPU"
  },
  "cells": [
    {
      "cell_type": "markdown",
      "metadata": {
        "id": "view-in-github",
        "colab_type": "text"
      },
      "source": [
        "<a href=\"https://colab.research.google.com/github/TiffanyN22/BMES-EEG-Project/blob/main/Copy_of_EEGWaves_TensorFlow_Test.ipynb\" target=\"_parent\"><img src=\"https://colab.research.google.com/assets/colab-badge.svg\" alt=\"Open In Colab\"/></a>"
      ]
    },
    {
      "cell_type": "code",
      "execution_count": null,
      "metadata": {
        "id": "hR9MCx-TBvEB"
      },
      "outputs": [],
      "source": [
        "!pip install mne"
      ]
    },
    {
      "cell_type": "code",
      "source": [
        "#!unzip /content/drive/MyDrive/EEGWaves/sleep-cassette.zip -d /content/drive/MyDrive/EEGWaves/sleep-cassette"
      ],
      "metadata": {
        "id": "cqhu33d-CJB4"
      },
      "execution_count": null,
      "outputs": []
    },
    {
      "cell_type": "code",
      "source": [
        "import mne\n",
        "import os\n",
        "import numpy as np"
      ],
      "metadata": {
        "id": "NlZiIosPNUZk"
      },
      "execution_count": null,
      "outputs": []
    },
    {
      "cell_type": "code",
      "source": [
        "edf_folder = \"/content/drive/MyDrive/EEGWaves/sleep-cassette\"\n",
        "edf_files = [os.path.join(edf_folder, f) for f in os.listdir(edf_folder) if f.endswith(\".edf\")]"
      ],
      "metadata": {
        "id": "73EQSsyMXiw1"
      },
      "execution_count": null,
      "outputs": []
    },
    {
      "cell_type": "code",
      "source": [
        "# Create two dictionaries, one for PSG files and one for Hypnogram files\n",
        "psg_files = {f[:7]: f for f in edf_files if '-PSG.edf' in f}\n",
        "hyp_files = {f[:7]: f for f in edf_files if '-Hypnogram.edf' in f}\n",
        "\n",
        "# Now you can get the PSG file and its corresponding Hypnogram file by the key\n",
        "for key in psg_files.keys():\n",
        "    print(psg_files[key], hyp_files[key])"
      ],
      "metadata": {
        "colab": {
          "base_uri": "https://localhost:8080/"
        },
        "id": "9gUUpEeyHDZC",
        "outputId": "a3a92816-6dbb-4068-9e85-7a6e0ff49ed1"
      },
      "execution_count": null,
      "outputs": [
        {
          "output_type": "stream",
          "name": "stdout",
          "text": [
            "/content/drive/MyDrive/EEGWaves/sleep-cassette/SC4731E0-PSG.edf /content/drive/MyDrive/EEGWaves/sleep-cassette/SC4122EV-Hypnogram.edf\n"
          ]
        }
      ]
    },
    {
      "cell_type": "code",
      "source": [
        "# Calculate the start and stop times of each epoch\n",
        "epoch_times = np.arange(raw.times[0], raw.times[-1], 30)\n",
        "\n",
        "# Create a list to hold our labels\n",
        "labels = []\n",
        "\n",
        "# Also create a list to hold our epochs\n",
        "epochs_data = []"
      ],
      "metadata": {
        "id": "Wb7KkXw5NjD8"
      },
      "execution_count": null,
      "outputs": []
    },
    {
      "cell_type": "code",
      "source": [
        "# Iterate over the start times\n",
        "for start in epoch_times:\n",
        "    # Find the annotation that overlaps with this time\n",
        "    for ann in raw.annotations:\n",
        "        if ann['onset'] <= start < ann['onset'] + ann['duration']:\n",
        "            # If we found an overlapping annotation, save the label and the data\n",
        "            labels.append(ann['description'])\n",
        "            epoch = raw.copy().crop(tmin=start, tmax=start+30).get_data()\n",
        "            epochs_data.append(epoch)\n",
        "            break\n"
      ],
      "metadata": {
        "id": "3xNriYAtNjSM"
      },
      "execution_count": null,
      "outputs": []
    },
    {
      "cell_type": "code",
      "source": [
        "# Convert labels and epochs_data to numpy arrays\n",
        "labels = np.array(labels)\n",
        "epochs_data = np.array(epochs_data)\n",
        "\n",
        "# Check the shapes of our data\n",
        "print(epochs_data.shape)\n",
        "print(labels.shape)"
      ],
      "metadata": {
        "id": "VWYtIVhsNjjy",
        "colab": {
          "base_uri": "https://localhost:8080/"
        },
        "outputId": "b0530d3c-3c13-40e5-a86d-766ed189fa17"
      },
      "execution_count": null,
      "outputs": [
        {
          "output_type": "stream",
          "name": "stdout",
          "text": [
            "(2880, 7, 3001)\n",
            "(2880,)\n"
          ]
        }
      ]
    },
    {
      "cell_type": "code",
      "source": [
        "from sklearn.preprocessing import StandardScaler, LabelEncoder\n",
        "\n",
        "# Reshape epochs_data to 2D so it can be processed by StandardScaler\n",
        "n_epochs, n_channels, n_times = epochs_data.shape\n",
        "epochs_data = epochs_data.reshape(n_epochs, n_channels * n_times)\n",
        "\n",
        "# Standardize features\n",
        "scaler = StandardScaler()\n",
        "epochs_data = scaler.fit_transform(epochs_data)\n",
        "\n",
        "# Encode labels\n",
        "encoder = LabelEncoder()\n",
        "labels = encoder.fit_transform(labels)\n",
        "\n",
        "# Print shapes of data and labels to make sure everything is okay\n",
        "print(epochs_data.shape)\n",
        "print(labels.shape)\n"
      ],
      "metadata": {
        "id": "lRXMCwuyjwMk",
        "colab": {
          "base_uri": "https://localhost:8080/"
        },
        "outputId": "50ea92a9-43dd-481c-8579-8c1edc3d5ef3"
      },
      "execution_count": null,
      "outputs": [
        {
          "output_type": "stream",
          "name": "stdout",
          "text": [
            "(2880, 21007)\n",
            "(2880,)\n"
          ]
        }
      ]
    },
    {
      "cell_type": "code",
      "source": [
        "from sklearn.model_selection import train_test_split\n",
        "\n",
        "# First, split the data into a training+validation set and a test set\n",
        "X_temp, X_test, y_temp, y_test = train_test_split(\n",
        "    epochs_data, labels, test_size=0.2, random_state=42\n",
        ")\n",
        "\n",
        "# Then, split the training+validation set into separate training and validation sets\n",
        "X_train, X_val, y_train, y_val = train_test_split(\n",
        "    X_temp, y_temp, test_size=0.25, random_state=42  # 0.25 x 0.8 = 0.2\n",
        ")\n",
        "\n",
        "# Check the shapes to make sure everything is OK\n",
        "print(X_train.shape)\n",
        "print(y_train.shape)\n",
        "print(X_val.shape)\n",
        "print(y_val.shape)\n",
        "print(X_test.shape)\n",
        "print(y_test.shape)\n"
      ],
      "metadata": {
        "id": "FDHK6gY6jwbb",
        "colab": {
          "base_uri": "https://localhost:8080/"
        },
        "outputId": "44d670aa-0fdd-4ac4-ec43-f69fe43b9d05"
      },
      "execution_count": null,
      "outputs": [
        {
          "output_type": "stream",
          "name": "stdout",
          "text": [
            "(1728, 21007)\n",
            "(1728,)\n",
            "(576, 21007)\n",
            "(576,)\n",
            "(576, 21007)\n",
            "(576,)\n"
          ]
        }
      ]
    },
    {
      "cell_type": "code",
      "source": [
        "!pip install tensorflow"
      ],
      "metadata": {
        "id": "KnlEmlzyjwp8",
        "colab": {
          "base_uri": "https://localhost:8080/"
        },
        "outputId": "2b315df5-30f9-4fd4-d298-b0648c7d343c"
      },
      "execution_count": null,
      "outputs": [
        {
          "output_type": "stream",
          "name": "stdout",
          "text": [
            "Looking in indexes: https://pypi.org/simple, https://us-python.pkg.dev/colab-wheels/public/simple/\n",
            "Requirement already satisfied: tensorflow in /usr/local/lib/python3.10/dist-packages (2.12.0)\n",
            "Requirement already satisfied: absl-py>=1.0.0 in /usr/local/lib/python3.10/dist-packages (from tensorflow) (1.4.0)\n",
            "Requirement already satisfied: astunparse>=1.6.0 in /usr/local/lib/python3.10/dist-packages (from tensorflow) (1.6.3)\n",
            "Requirement already satisfied: flatbuffers>=2.0 in /usr/local/lib/python3.10/dist-packages (from tensorflow) (23.3.3)\n",
            "Requirement already satisfied: gast<=0.4.0,>=0.2.1 in /usr/local/lib/python3.10/dist-packages (from tensorflow) (0.4.0)\n",
            "Requirement already satisfied: google-pasta>=0.1.1 in /usr/local/lib/python3.10/dist-packages (from tensorflow) (0.2.0)\n",
            "Requirement already satisfied: grpcio<2.0,>=1.24.3 in /usr/local/lib/python3.10/dist-packages (from tensorflow) (1.54.0)\n",
            "Requirement already satisfied: h5py>=2.9.0 in /usr/local/lib/python3.10/dist-packages (from tensorflow) (3.8.0)\n",
            "Requirement already satisfied: jax>=0.3.15 in /usr/local/lib/python3.10/dist-packages (from tensorflow) (0.4.8)\n",
            "Requirement already satisfied: keras<2.13,>=2.12.0 in /usr/local/lib/python3.10/dist-packages (from tensorflow) (2.12.0)\n",
            "Requirement already satisfied: libclang>=13.0.0 in /usr/local/lib/python3.10/dist-packages (from tensorflow) (16.0.0)\n",
            "Requirement already satisfied: numpy<1.24,>=1.22 in /usr/local/lib/python3.10/dist-packages (from tensorflow) (1.22.4)\n",
            "Requirement already satisfied: opt-einsum>=2.3.2 in /usr/local/lib/python3.10/dist-packages (from tensorflow) (3.3.0)\n",
            "Requirement already satisfied: packaging in /usr/local/lib/python3.10/dist-packages (from tensorflow) (23.1)\n",
            "Requirement already satisfied: protobuf!=4.21.0,!=4.21.1,!=4.21.2,!=4.21.3,!=4.21.4,!=4.21.5,<5.0.0dev,>=3.20.3 in /usr/local/lib/python3.10/dist-packages (from tensorflow) (3.20.3)\n",
            "Requirement already satisfied: setuptools in /usr/local/lib/python3.10/dist-packages (from tensorflow) (67.7.2)\n",
            "Requirement already satisfied: six>=1.12.0 in /usr/local/lib/python3.10/dist-packages (from tensorflow) (1.16.0)\n",
            "Requirement already satisfied: tensorboard<2.13,>=2.12 in /usr/local/lib/python3.10/dist-packages (from tensorflow) (2.12.2)\n",
            "Requirement already satisfied: tensorflow-estimator<2.13,>=2.12.0 in /usr/local/lib/python3.10/dist-packages (from tensorflow) (2.12.0)\n",
            "Requirement already satisfied: termcolor>=1.1.0 in /usr/local/lib/python3.10/dist-packages (from tensorflow) (2.3.0)\n",
            "Requirement already satisfied: typing-extensions>=3.6.6 in /usr/local/lib/python3.10/dist-packages (from tensorflow) (4.5.0)\n",
            "Requirement already satisfied: wrapt<1.15,>=1.11.0 in /usr/local/lib/python3.10/dist-packages (from tensorflow) (1.14.1)\n",
            "Requirement already satisfied: tensorflow-io-gcs-filesystem>=0.23.1 in /usr/local/lib/python3.10/dist-packages (from tensorflow) (0.32.0)\n",
            "Requirement already satisfied: wheel<1.0,>=0.23.0 in /usr/local/lib/python3.10/dist-packages (from astunparse>=1.6.0->tensorflow) (0.40.0)\n",
            "Requirement already satisfied: ml-dtypes>=0.0.3 in /usr/local/lib/python3.10/dist-packages (from jax>=0.3.15->tensorflow) (0.1.0)\n",
            "Requirement already satisfied: scipy>=1.7 in /usr/local/lib/python3.10/dist-packages (from jax>=0.3.15->tensorflow) (1.10.1)\n",
            "Requirement already satisfied: google-auth<3,>=1.6.3 in /usr/local/lib/python3.10/dist-packages (from tensorboard<2.13,>=2.12->tensorflow) (2.17.3)\n",
            "Requirement already satisfied: google-auth-oauthlib<1.1,>=0.5 in /usr/local/lib/python3.10/dist-packages (from tensorboard<2.13,>=2.12->tensorflow) (1.0.0)\n",
            "Requirement already satisfied: markdown>=2.6.8 in /usr/local/lib/python3.10/dist-packages (from tensorboard<2.13,>=2.12->tensorflow) (3.4.3)\n",
            "Requirement already satisfied: requests<3,>=2.21.0 in /usr/local/lib/python3.10/dist-packages (from tensorboard<2.13,>=2.12->tensorflow) (2.27.1)\n",
            "Requirement already satisfied: tensorboard-data-server<0.8.0,>=0.7.0 in /usr/local/lib/python3.10/dist-packages (from tensorboard<2.13,>=2.12->tensorflow) (0.7.0)\n",
            "Requirement already satisfied: tensorboard-plugin-wit>=1.6.0 in /usr/local/lib/python3.10/dist-packages (from tensorboard<2.13,>=2.12->tensorflow) (1.8.1)\n",
            "Requirement already satisfied: werkzeug>=1.0.1 in /usr/local/lib/python3.10/dist-packages (from tensorboard<2.13,>=2.12->tensorflow) (2.3.0)\n",
            "Requirement already satisfied: cachetools<6.0,>=2.0.0 in /usr/local/lib/python3.10/dist-packages (from google-auth<3,>=1.6.3->tensorboard<2.13,>=2.12->tensorflow) (5.3.0)\n",
            "Requirement already satisfied: pyasn1-modules>=0.2.1 in /usr/local/lib/python3.10/dist-packages (from google-auth<3,>=1.6.3->tensorboard<2.13,>=2.12->tensorflow) (0.3.0)\n",
            "Requirement already satisfied: rsa<5,>=3.1.4 in /usr/local/lib/python3.10/dist-packages (from google-auth<3,>=1.6.3->tensorboard<2.13,>=2.12->tensorflow) (4.9)\n",
            "Requirement already satisfied: requests-oauthlib>=0.7.0 in /usr/local/lib/python3.10/dist-packages (from google-auth-oauthlib<1.1,>=0.5->tensorboard<2.13,>=2.12->tensorflow) (1.3.1)\n",
            "Requirement already satisfied: urllib3<1.27,>=1.21.1 in /usr/local/lib/python3.10/dist-packages (from requests<3,>=2.21.0->tensorboard<2.13,>=2.12->tensorflow) (1.26.15)\n",
            "Requirement already satisfied: certifi>=2017.4.17 in /usr/local/lib/python3.10/dist-packages (from requests<3,>=2.21.0->tensorboard<2.13,>=2.12->tensorflow) (2022.12.7)\n",
            "Requirement already satisfied: charset-normalizer~=2.0.0 in /usr/local/lib/python3.10/dist-packages (from requests<3,>=2.21.0->tensorboard<2.13,>=2.12->tensorflow) (2.0.12)\n",
            "Requirement already satisfied: idna<4,>=2.5 in /usr/local/lib/python3.10/dist-packages (from requests<3,>=2.21.0->tensorboard<2.13,>=2.12->tensorflow) (3.4)\n",
            "Requirement already satisfied: MarkupSafe>=2.1.1 in /usr/local/lib/python3.10/dist-packages (from werkzeug>=1.0.1->tensorboard<2.13,>=2.12->tensorflow) (2.1.2)\n",
            "Requirement already satisfied: pyasn1<0.6.0,>=0.4.6 in /usr/local/lib/python3.10/dist-packages (from pyasn1-modules>=0.2.1->google-auth<3,>=1.6.3->tensorboard<2.13,>=2.12->tensorflow) (0.5.0)\n",
            "Requirement already satisfied: oauthlib>=3.0.0 in /usr/local/lib/python3.10/dist-packages (from requests-oauthlib>=0.7.0->google-auth-oauthlib<1.1,>=0.5->tensorboard<2.13,>=2.12->tensorflow) (3.2.2)\n"
          ]
        }
      ]
    },
    {
      "cell_type": "code",
      "source": [
        "from tensorflow.keras.models import Sequential\n",
        "from tensorflow.keras.layers import Dense\n",
        "\n",
        "# Determine the number of features\n",
        "n_features = X_train.shape[1]\n",
        "\n",
        "# Build the model\n",
        "model = Sequential()\n",
        "model.add(Dense(64, activation='relu', input_shape=(n_features,)))\n",
        "model.add(Dense(64, activation='relu'))\n",
        "model.add(Dense(len(np.unique(y_train)), activation='softmax'))\n",
        "\n",
        "# Compile the model\n",
        "model.compile(optimizer='adam', \n",
        "              loss='sparse_categorical_crossentropy', \n",
        "              metrics=['accuracy'])\n",
        "\n",
        "# Train the model\n",
        "model.fit(X_train, y_train, \n",
        "          validation_data=(X_val, y_val), \n",
        "          epochs=10, \n",
        "          batch_size=32)\n"
      ],
      "metadata": {
        "id": "qo978WVpjw6b",
        "colab": {
          "base_uri": "https://localhost:8080/"
        },
        "outputId": "5e08adc1-e4f6-4d45-cf5a-3d91fb4bf2fe"
      },
      "execution_count": null,
      "outputs": [
        {
          "output_type": "stream",
          "name": "stdout",
          "text": [
            "Epoch 1/10\n",
            "54/54 [==============================] - 2s 10ms/step - loss: 1.3996 - accuracy: 0.6944 - val_loss: 1.4631 - val_accuracy: 0.7222\n",
            "Epoch 2/10\n",
            "54/54 [==============================] - 0s 5ms/step - loss: 1.1254 - accuracy: 0.7118 - val_loss: 1.0817 - val_accuracy: 0.7326\n",
            "Epoch 3/10\n",
            "54/54 [==============================] - 0s 5ms/step - loss: 1.0312 - accuracy: 0.7135 - val_loss: 1.0455 - val_accuracy: 0.7326\n",
            "Epoch 4/10\n",
            "54/54 [==============================] - 0s 5ms/step - loss: 0.9920 - accuracy: 0.7147 - val_loss: 1.0379 - val_accuracy: 0.7326\n",
            "Epoch 5/10\n",
            "54/54 [==============================] - 0s 5ms/step - loss: 0.9722 - accuracy: 0.7153 - val_loss: 1.0692 - val_accuracy: 0.7326\n",
            "Epoch 6/10\n",
            "54/54 [==============================] - 0s 5ms/step - loss: 0.9455 - accuracy: 0.7159 - val_loss: 1.0590 - val_accuracy: 0.7292\n",
            "Epoch 7/10\n",
            "54/54 [==============================] - 0s 5ms/step - loss: 0.9234 - accuracy: 0.7176 - val_loss: 1.0480 - val_accuracy: 0.7326\n",
            "Epoch 8/10\n",
            "54/54 [==============================] - 0s 5ms/step - loss: 0.8804 - accuracy: 0.7234 - val_loss: 1.0735 - val_accuracy: 0.7257\n",
            "Epoch 9/10\n",
            "54/54 [==============================] - 0s 5ms/step - loss: 0.8471 - accuracy: 0.7309 - val_loss: 1.1342 - val_accuracy: 0.7222\n",
            "Epoch 10/10\n",
            "54/54 [==============================] - 0s 5ms/step - loss: 0.8264 - accuracy: 0.7407 - val_loss: 1.2252 - val_accuracy: 0.7170\n"
          ]
        },
        {
          "output_type": "execute_result",
          "data": {
            "text/plain": [
              "<keras.callbacks.History at 0x7f0b2c7bf910>"
            ]
          },
          "metadata": {},
          "execution_count": 16
        }
      ]
    },
    {
      "cell_type": "code",
      "source": [
        "# Evaluate the model\n",
        "test_loss, test_accuracy = model.evaluate(X_test, y_test)\n",
        "\n",
        "print(f\"Test loss: {test_loss}\")\n",
        "print(f\"Test accuracy: {test_accuracy}\")"
      ],
      "metadata": {
        "id": "w-LhjVrUjxMh",
        "colab": {
          "base_uri": "https://localhost:8080/"
        },
        "outputId": "1739f0dc-2658-44e4-f716-6d4034269d4e"
      },
      "execution_count": null,
      "outputs": [
        {
          "output_type": "stream",
          "name": "stdout",
          "text": [
            "18/18 [==============================] - 0s 3ms/step - loss: 0.9840 - accuracy: 0.7326\n",
            "Test loss: 0.9840005040168762\n",
            "Test accuracy: 0.7326388955116272\n"
          ]
        }
      ]
    },
    {
      "cell_type": "code",
      "source": [],
      "metadata": {
        "id": "_CQU_iq0jx8K"
      },
      "execution_count": null,
      "outputs": []
    },
    {
      "cell_type": "code",
      "source": [],
      "metadata": {
        "id": "5BXB6IyajzSE"
      },
      "execution_count": null,
      "outputs": []
    },
    {
      "cell_type": "code",
      "source": [],
      "metadata": {
        "id": "uvewwnLojz1O"
      },
      "execution_count": null,
      "outputs": []
    },
    {
      "cell_type": "code",
      "source": [],
      "metadata": {
        "id": "MHI4qy_Jj0c7"
      },
      "execution_count": null,
      "outputs": []
    },
    {
      "cell_type": "code",
      "source": [],
      "metadata": {
        "id": "k4EQAfHWj2af"
      },
      "execution_count": null,
      "outputs": []
    },
    {
      "cell_type": "code",
      "source": [],
      "metadata": {
        "id": "oh0sbGwRj3Vd"
      },
      "execution_count": null,
      "outputs": []
    }
  ]
}